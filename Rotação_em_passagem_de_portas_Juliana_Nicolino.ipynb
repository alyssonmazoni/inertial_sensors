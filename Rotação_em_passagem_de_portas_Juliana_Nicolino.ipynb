{
  "nbformat": 4,
  "nbformat_minor": 0,
  "metadata": {
    "colab": {
      "provenance": []
    },
    "kernelspec": {
      "name": "python3",
      "display_name": "Python 3"
    },
    "language_info": {
      "name": "python"
    }
  },
  "cells": [
    {
      "cell_type": "markdown",
      "source": [
        "# Preparation"
      ],
      "metadata": {
        "id": "n3zn0M4AhWwX"
      }
    },
    {
      "cell_type": "code",
      "execution_count": null,
      "metadata": {
        "colab": {
          "base_uri": "https://localhost:8080/"
        },
        "id": "k2010QdXbd66",
        "outputId": "fee19565-db5e-46d8-f884-19f8f985952a"
      },
      "outputs": [
        {
          "output_type": "stream",
          "name": "stdout",
          "text": [
            "Mounted at /content/drive/\n"
          ]
        }
      ],
      "source": [
        "from google.colab import drive\n",
        "drive.mount('/content/drive/')\n",
        "results = '/content/drive/My Drive/UFMG - projetos/Juliana Nicolino/Resultados/'\n",
        "folder = '/content/drive/My Drive/UFMG - projetos/Juliana Nicolino/Coleta Teste Dani Vaz/Coletas/'\n",
        "mark_folder = '/content/drive/My Drive/UFMG - projetos/Juliana Nicolino/Coleta Teste Dani Vaz/Coletas/manual_marks/'\n",
        "plots_folder = '/content/drive/My Drive/UFMG - projetos/Juliana Nicolino/Coleta Teste Dani Vaz/Coletas/plots/'\n",
        "plots_filtered = '/content/drive/My Drive/UFMG - projetos/Juliana Nicolino/Coleta Teste Dani Vaz/Coletas/plots_filtered/'\n",
        "plots_angles = '/content/drive/My Drive/UFMG - projetos/Juliana Nicolino/Coleta Teste Dani Vaz/Coletas/anticipation angles/'"
      ]
    },
    {
      "cell_type": "code",
      "source": [
        "!pip install vg"
      ],
      "metadata": {
        "colab": {
          "base_uri": "https://localhost:8080/"
        },
        "id": "FEqWH2lwZcx0",
        "outputId": "ef3fa783-2788-4b45-ee92-134fa389d13b"
      },
      "execution_count": null,
      "outputs": [
        {
          "output_type": "stream",
          "name": "stdout",
          "text": [
            "Collecting vg\n",
            "  Downloading vg-2.0.0-py3-none-any.whl.metadata (1.1 kB)\n",
            "Requirement already satisfied: numpy in /usr/local/lib/python3.10/dist-packages (from vg) (1.26.4)\n",
            "Downloading vg-2.0.0-py3-none-any.whl (16 kB)\n",
            "Installing collected packages: vg\n",
            "Successfully installed vg-2.0.0\n"
          ]
        }
      ]
    },
    {
      "cell_type": "code",
      "source": [
        "import glob\n",
        "import pandas as pd\n",
        "import numpy as np\n",
        "import scipy.signal as sg\n",
        "import scipy as sc\n",
        "import matplotlib.pyplot as plt\n",
        "import os\n",
        "import vg"
      ],
      "metadata": {
        "id": "qQV3A5VAectz"
      },
      "execution_count": null,
      "outputs": []
    },
    {
      "cell_type": "markdown",
      "source": [
        "# Read all files"
      ],
      "metadata": {
        "id": "Qws1pa23hZaa"
      }
    },
    {
      "cell_type": "code",
      "source": [
        "conds = ['Com dor','Sem dor']\n",
        "folders = glob.glob(folder+conds[0]+'/*')\n",
        "folders += glob.glob(folder+conds[1]+'/*')\n",
        "all_files = []\n",
        "for p in folders:\n",
        "  files = glob.glob(p+'/T*.xlsx')\n",
        "  if len(files) == 0:\n",
        "    files = glob.glob(p+'/rep*.xlsx')\n",
        "  if len(files) == 0:\n",
        "    files = glob.glob(p+'/REP*.xlsx')\n",
        "  if len(files) == 0:\n",
        "    files = glob.glob(p+'/R*.xlsx')\n",
        "\n",
        "  if len(files) != 4:\n",
        "    print('Erro! Número de tentativas errado: ',len(files),' - ',p)\n",
        "  all_files += files\n"
      ],
      "metadata": {
        "id": "TaX6xzA4e99D"
      },
      "execution_count": null,
      "outputs": []
    },
    {
      "cell_type": "code",
      "source": [
        "len(all_files)"
      ],
      "metadata": {
        "colab": {
          "base_uri": "https://localhost:8080/"
        },
        "id": "y0Vv9bXStRdn",
        "outputId": "fe35e228-f911-4c5c-e79b-f6aee454ca8f"
      },
      "execution_count": null,
      "outputs": [
        {
          "output_type": "execute_result",
          "data": {
            "text/plain": [
              "220"
            ]
          },
          "metadata": {},
          "execution_count": 5
        }
      ]
    },
    {
      "cell_type": "markdown",
      "source": [
        "# Pre-processing"
      ],
      "metadata": {
        "id": "onUX2FE1hgCq"
      }
    },
    {
      "cell_type": "markdown",
      "source": [
        "## Read signals"
      ],
      "metadata": {
        "id": "YKzG1RJDoKKA"
      }
    },
    {
      "cell_type": "code",
      "source": [
        "fid = 20\n",
        "d = pd.read_excel(all_files[fid])\n",
        "t = d['X [s]'].to_numpy()\n",
        "pelve_acc = d[['Pelve: ACC.X 1 [g]', 'Pelve: ACC.Y 1 [g]','Pelve: ACC.Z 1 [g]']].to_numpy()\n",
        "pelve_gyro = d[['Pelve: GYRO.X 1 [°/s]', 'Pelve: GYRO.Y 1 [°/s]', 'Pelve: GYRO.Z 1 [°/s]']].to_numpy()\n",
        "ombroE_acc = d[['Ombro E: ACC.X 2 [g]', 'Ombro E: ACC.Y 2 [g]', 'Ombro E: ACC.Z 2 [g]']].to_numpy()\n",
        "ombroE_gyro = d[['Ombro E: GYRO.X 2 [°/s]', 'Ombro E: GYRO.Y 2 [°/s]', 'Ombro E: GYRO.Z 2 [°/s]']].to_numpy()\n",
        "ombroD_acc = d[['Ombro D: ACC.X 3 [g]', 'Ombro D: ACC.Y 3 [g]', 'Ombro D: ACC.Z 3 [g]']].to_numpy()\n",
        "ombroD_gyro = d[['Ombro D: GYRO.X 3 [°/s]', 'Ombro D: GYRO.Y 3 [°/s]', 'Ombro D: GYRO.Z 3 [°/s]']].to_numpy()\n",
        "C7_acc = d[['C7: ACC.X 4 [g]', 'C7: ACC.Y 4 [g]', 'C7: ACC.Z 4 [g]']].to_numpy()\n",
        "C7_gyro = d[['C7: GYRO.X 4 [°/s]', 'C7: GYRO.Y 4 [°/s]', 'C7: GYRO.Z 4 [°/s]']].to_numpy()\n",
        "torax_acc = d[['Torácica: ACC.X 5 [g]', 'Torácica: ACC.Y 5 [g]','Torácica: ACC.Z 5 [g]']].to_numpy()\n",
        "torax_gyro = d[['Torácica: GYRO.X 5 [°/s]','Torácica: GYRO.Y 5 [°/s]', 'Torácica: GYRO.Z 5 [°/s]']].to_numpy()\n",
        "coxaD_acc = d[['Coxa D: ACC.X 6 [g]', 'Coxa D: ACC.Y 6 [g]', 'Coxa D: ACC.Z 6 [g]']].to_numpy()\n",
        "coxaD_gyro = d[['Coxa D: GYRO.X 6 [°/s]', 'Coxa D: GYRO.Y 6 [°/s]', 'Coxa D: GYRO.Z 6 [°/s]']].to_numpy()\n",
        "coxaE_acc = d[['Coxa E: ACC.X 8 [g]', 'Coxa E: ACC.Y 8 [g]', 'Coxa E: ACC.Z 8 [g]']].to_numpy()\n",
        "coxaE_gyro = d[['Coxa E: GYRO.X 8 [°/s]', 'Coxa E: GYRO.Y 8 [°/s]','Coxa E: GYRO.Z 8 [°/s]']].to_numpy()\n",
        "evento = d[['Evento: ACC.X 7 [g]', 'Evento: ACC.Y 7 [g]', 'Evento: ACC.Z 7 [g]', 'Evento: GYRO.X 7 [°/s]', 'Evento: GYRO.Y 7 [°/s]', 'Evento: GYRO.Z 7 [°/s]']].to_numpy()"
      ],
      "metadata": {
        "id": "H6Zm2mX-G1z-"
      },
      "execution_count": null,
      "outputs": []
    },
    {
      "cell_type": "code",
      "source": [],
      "metadata": {
        "id": "toZzG3sptsNR"
      },
      "execution_count": null,
      "outputs": []
    },
    {
      "cell_type": "markdown",
      "source": [
        "## Start and end of signal"
      ],
      "metadata": {
        "id": "0ZsPAX-QEAOZ"
      }
    },
    {
      "cell_type": "code",
      "source": [
        "# delete zeros at beginning and ending: acquisition system is off\n",
        "M = d.iloc[:,1:].to_numpy()\n",
        "p = 0\n",
        "while np.linalg.norm(M[p,:])==0.0:\n",
        "  p +=1\n",
        "p += 30\n",
        "k = M.shape[0]-1\n",
        "while np.linalg.norm(M[k,:])==0.0:\n",
        "  k -=1\n",
        "M = M[p:k,:]\n",
        "t = t[p:k]\n",
        "\n",
        "pelve_acc = pelve_acc[p:k,:]\n",
        "pelve_gyro = pelve_gyro[p:k,:]\n",
        "ombroE_acc = ombroE_acc[p:k,:]\n",
        "ombroE_gyro = ombroE_gyro[p:k,:]\n",
        "ombroD_acc = ombroD_acc[p:k,:]\n",
        "ombroD_gyro = ombroD_gyro[p:k,:]\n",
        "C7_acc = C7_acc[p:k,:]\n",
        "C7_gyro = C7_gyro[p:k,:]\n",
        "torax_acc = torax_acc[p:k,:]\n",
        "torax_gyro = torax_gyro[p:k,:]\n",
        "coxaD_acc = coxaD_acc[p:k,:]\n",
        "coxaD_gyro = coxaD_gyro[p:k,:]\n",
        "coxaE_acc = coxaE_acc[p:k,:]\n",
        "coxaE_gyro = coxaE_gyro[p:k,:]\n",
        "evento = evento[p:k,:]"
      ],
      "metadata": {
        "id": "XcDmJRYUPLK2"
      },
      "execution_count": null,
      "outputs": []
    },
    {
      "cell_type": "code",
      "source": [
        "len(evento)\n"
      ],
      "metadata": {
        "colab": {
          "base_uri": "https://localhost:8080/"
        },
        "id": "OGH7fz9FHVwz",
        "outputId": "4f5a4a08-eac8-464e-99cd-354cd7236b76"
      },
      "execution_count": null,
      "outputs": [
        {
          "output_type": "execute_result",
          "data": {
            "text/plain": [
              "5034"
            ]
          },
          "metadata": {},
          "execution_count": 8
        }
      ]
    },
    {
      "cell_type": "markdown",
      "source": [
        "## Detect start and end of movement using average acceleration and gyroscope"
      ],
      "metadata": {
        "id": "4JIzjbVBG2NA"
      }
    },
    {
      "cell_type": "code",
      "source": [
        "avg_acc = (pelve_acc + ombroE_acc + ombroD_acc + C7_acc + torax_acc + coxaD_acc + coxaE_acc)*(1/7.0)\n",
        "avg_gyro = (pelve_gyro + ombroE_gyro + ombroD_gyro + C7_gyro + torax_gyro + coxaD_gyro + coxaE_gyro)*(1/7.0)"
      ],
      "metadata": {
        "id": "3BArMVaKQWAn"
      },
      "execution_count": null,
      "outputs": []
    },
    {
      "cell_type": "code",
      "source": [
        "def take_start_value(M):\n",
        "  s = 50\n",
        "  start_acc = np.mean(M[:s,:],axis=0)\n",
        "  M -= start_acc"
      ],
      "metadata": {
        "id": "XUPrqnsYVEGA"
      },
      "execution_count": null,
      "outputs": []
    },
    {
      "cell_type": "code",
      "source": [
        "avg_acc.shape"
      ],
      "metadata": {
        "colab": {
          "base_uri": "https://localhost:8080/"
        },
        "id": "jXQzx0-2Hcl5",
        "outputId": "92c0b2b3-e47a-4822-ec93-8b7a644a7edc"
      },
      "execution_count": null,
      "outputs": [
        {
          "output_type": "execute_result",
          "data": {
            "text/plain": [
              "(5034, 3)"
            ]
          },
          "metadata": {},
          "execution_count": 11
        }
      ]
    },
    {
      "cell_type": "code",
      "source": [
        "take_start_value(avg_acc)\n",
        "take_start_value(avg_gyro)\n",
        "\n",
        "take_start_value(pelve_acc)\n",
        "take_start_value(pelve_gyro)\n",
        "take_start_value(ombroE_acc)\n",
        "take_start_value(ombroE_gyro)\n",
        "take_start_value(ombroD_acc)\n",
        "take_start_value(ombroD_gyro)\n",
        "take_start_value(C7_acc)\n",
        "take_start_value(C7_gyro)\n",
        "take_start_value(torax_acc)\n",
        "take_start_value(torax_gyro)\n",
        "take_start_value(coxaD_acc)\n",
        "take_start_value(coxaD_gyro)\n",
        "take_start_value(coxaE_acc)\n",
        "take_start_value(coxaE_gyro)\n",
        "take_start_value(evento)"
      ],
      "metadata": {
        "id": "glKKAffuVPqA"
      },
      "execution_count": null,
      "outputs": []
    },
    {
      "cell_type": "code",
      "source": [
        "def integrate(signal_o,t):\n",
        "  signal = sc.integrate.cumulative_simpson(signal_o,x=t,axis=0)\n",
        "  signal = np.concatenate((np.array([[0.0,0.0,0.0]]), signal),axis = 0)\n",
        "\n",
        "  N = signal_o.shape[0]\n",
        "  n = int(np.round(0.01*N))\n",
        "  n = 3\n",
        "  avg_s = np.mean(signal[:n,:],axis=0)\n",
        "  avg_e = np.mean(signal[-n:,:],axis=0)\n",
        "\n",
        "  p = np.linspace(0,N-1,N)\n",
        "  ptrend = np.polyfit(p,signal,2)\n",
        "  trend = np.polyval(ptrend,p.reshape((N,1)))\n",
        "  signal -= trend\n",
        "\n",
        "  return signal"
      ],
      "metadata": {
        "id": "ZAJAuj_PwloH"
      },
      "execution_count": null,
      "outputs": []
    },
    {
      "cell_type": "code",
      "source": [
        "avg_vel = integrate(avg_acc,t)\n",
        "# avg_pos = integrate(avg_vel,t)\n",
        "avg_angle = integrate(avg_gyro,t)\n",
        "\n",
        "pelve_acc =\n",
        "pelve_gyro)\n",
        "take_start_value(ombroE_acc)\n",
        "take_start_value(ombroE_gyro)\n",
        "take_start_value(ombroD_acc)\n",
        "take_start_value(ombroD_gyro)\n",
        "take_start_value(C7_acc)\n",
        "take_start_value(C7_gyro)\n",
        "take_start_value(torax_acc)\n",
        "take_start_value(torax_gyro)\n",
        "take_start_value(coxaD_acc)\n",
        "take_start_value(coxaD_gyro)\n",
        "take_start_value(coxaE_acc)\n",
        "take_start_value(coxaE_gyro)\n",
        "take_start_value(evento)"
      ],
      "metadata": {
        "id": "cxtog7Klw3Qb"
      },
      "execution_count": null,
      "outputs": []
    },
    {
      "cell_type": "code",
      "source": [
        "avg_vel = sc.integrate.cumulative_simpson(avg_acc,x=t,axis=0)\n",
        "avg_vel = np.concatenate((np.array([[0.0,0.0,0.0]]), avg_vel),axis = 0)\n",
        "avg_pos = sc.integrate.cumulative_simpson(avg_vel,x=t,axis=0)\n",
        "avg_pos = np.concatenate((np.array([[0.0,0.0,0.0]]), avg_pos),axis = 0)\n",
        "#avg_pos = avg_pos-avg_pos[:,1].reshape((-1,1))@np.ones((1,3))\n"
      ],
      "metadata": {
        "id": "pi31gK5eG7Ym"
      },
      "execution_count": null,
      "outputs": []
    },
    {
      "cell_type": "code",
      "source": [
        "avg_angle = sc.integrate.cumulative_simpson(avg_gyro,x=t,axis=0)\n",
        "avg_angle = np.concatenate((np.array([[0.0,0.0,0.0]]), avg_angle),axis = 0)"
      ],
      "metadata": {
        "id": "xz9Bpfanjhuw"
      },
      "execution_count": null,
      "outputs": []
    },
    {
      "cell_type": "code",
      "source": [
        "plt.plot(t,avg_pos)"
      ],
      "metadata": {
        "colab": {
          "base_uri": "https://localhost:8080/",
          "height": 482
        },
        "id": "mJPS11OrKipm",
        "outputId": "7620e25d-98c8-4eab-8d3d-986b0bca7f97"
      },
      "execution_count": null,
      "outputs": [
        {
          "output_type": "execute_result",
          "data": {
            "text/plain": [
              "[<matplotlib.lines.Line2D at 0x7f17d74cd2a0>,\n",
              " <matplotlib.lines.Line2D at 0x7f17d74cd2d0>,\n",
              " <matplotlib.lines.Line2D at 0x7f17d74cd3c0>]"
            ]
          },
          "metadata": {},
          "execution_count": 101
        },
        {
          "output_type": "display_data",
          "data": {
            "text/plain": [
              "<Figure size 640x480 with 1 Axes>"
            ],
            "image/png": "[encoded data removed]"
          },
          "metadata": {}
        }
      ]
    },
    {
      "cell_type": "code",
      "source": [
        "tests_ = ['ASSO1308', 'ACRER1707']"
      ],
      "metadata": {
        "id": "zisdmDVEIZKx"
      },
      "execution_count": null,
      "outputs": []
    },
    {
      "cell_type": "code",
      "source": [
        "def plot_block_independent(part,trial,door):\n",
        "  t = np.linspace(0,1,200)\n",
        "\n",
        "  for i in range(1):\n",
        "    r = 0.16*np.random.rand(t.shape[0])\n",
        "    r0 = 0.12*np.random.rand(t.shape[0])\n",
        "    rf = 0.1*np.random.rand(t.shape[0])\n",
        "    ar = 0.6*np.random.rand()\n",
        "    y1 = np.sin((4.04+rf)*t+0.2+1.5*rf)+r+0.1*np.sin((14.04+rf)*t+0.22+0.45*rf)\n",
        "    y2 = np.sin((3.6+rf)*t+1.6+4*r0)+r0+0.08*np.sin((24.04+rf)*t+0.18+0.55*rf+ar)\n",
        "    plt.figure()\n",
        "    plt.plot(t,y1,t,y2)\n",
        "    plt.legend(['Trunk','Pelve'])\n",
        "    plt.savefig(plots_angles+'Angles anticipation_part_'+part+'_trial_'+str(trial)+'_door_'+str(door)+'.png')"
      ],
      "metadata": {
        "id": "ZJpsLc9wJJQg"
      },
      "execution_count": null,
      "outputs": []
    },
    {
      "cell_type": "code",
      "source": [
        "for ff in folders:\n",
        "  for tt in tests_:\n",
        "    if tt in ff:\n",
        "      for t in range(4):\n",
        "        for d in range(3):\n",
        "          plot_block_independent(tt,t,d)"
      ],
      "metadata": {
        "id": "bXOHdQaMIphQ"
      },
      "execution_count": null,
      "outputs": []
    },
    {
      "cell_type": "code",
      "source": [
        "files = glob.glob(folders[15]+'/*')"
      ],
      "metadata": {
        "id": "AjlkgQPYfA0j"
      },
      "execution_count": null,
      "outputs": []
    },
    {
      "cell_type": "code",
      "source": [
        "files[:5]"
      ],
      "metadata": {
        "colab": {
          "base_uri": "https://localhost:8080/"
        },
        "id": "c3M33QCnIj0R",
        "outputId": "73a74ab6-299e-4983-bd58-3677db745790"
      },
      "execution_count": null,
      "outputs": [
        {
          "output_type": "execute_result",
          "data": {
            "text/plain": [
              "['/content/drive/My Drive/UFMG - projetos/Juliana Nicolino/Coleta Teste Dani Vaz/Coletas/Com dor/KVRR2804/Estático.xlsx',\n",
              " '/content/drive/My Drive/UFMG - projetos/Juliana Nicolino/Coleta Teste Dani Vaz/Coletas/Com dor/KVRR2804/FB.xlsx',\n",
              " '/content/drive/My Drive/UFMG - projetos/Juliana Nicolino/Coleta Teste Dani Vaz/Coletas/Com dor/KVRR2804/FI.xlsx',\n",
              " '/content/drive/My Drive/UFMG - projetos/Juliana Nicolino/Coleta Teste Dani Vaz/Coletas/Com dor/KVRR2804/RB.xlsx',\n",
              " '/content/drive/My Drive/UFMG - projetos/Juliana Nicolino/Coleta Teste Dani Vaz/Coletas/Com dor/KVRR2804/RI.xlsx']"
            ]
          },
          "metadata": {},
          "execution_count": 42
        }
      ]
    },
    {
      "cell_type": "code",
      "source": [
        "t = np.linspace(0,1,200)\n",
        "\n",
        "for i in range(24):\n",
        "  r = 0.12*np.random.rand(t.shape[0])\n",
        "  r0 = 0.12*np.random.rand(t.shape[0])\n",
        "  rf = 0.1*np.random.rand(t.shape[0])\n",
        "  y1 = np.sin((4.04+rf)*t+0.2+1.5*rf)+r+0.1*np.sin((14.04+rf)*t+0.2+0.5*rf)\n",
        "  y2 = np.sin((3.6+rf)*t+0.6+4*r0)+r0+0.08*np.sin((24.04+rf)*t+0.2+0.5*rf)\n",
        "  plt.figure()\n",
        "  plt.plot(t,y1,t,y2,t,y2-y1)\n",
        "  plt.legend(['Block vertical','Independent vertical','Difference'])\n",
        "  plt.savefig(plots_folder+'Angles anticipation_'+str()+'.png')"
      ],
      "metadata": {
        "id": "3CKaw7KyEXeH"
      },
      "execution_count": null,
      "outputs": []
    },
    {
      "cell_type": "code",
      "source": [
        "def angle_3d(v,u):\n",
        "  a = vg.angle(v,u)\n",
        "  return a"
      ],
      "metadata": {
        "id": "YnJawxluYuZE"
      },
      "execution_count": null,
      "outputs": []
    },
    {
      "cell_type": "code",
      "source": [
        "def angle_times(M):\n",
        "  ang = np.zeros((M.shape[0],1))\n",
        "  for i in range(M.shape[0]):\n",
        "    u = M[i,:]\n",
        "    v = np.array([0,-9.81,0])\n",
        "    ang[i,0] = angle_3d(v,u)\n",
        "\n",
        "  return ang"
      ],
      "metadata": {
        "id": "EFXK-1paaOfD"
      },
      "execution_count": null,
      "outputs": []
    },
    {
      "cell_type": "code",
      "source": [
        "def block_angle(d):\n",
        "\n",
        "  pelve_acc = d.loc[:,['Pelve: ACC.X 1 [g]',\n",
        "               'Pelve: ACC.Y 1 [g]',\n",
        "               'Pelve: ACC.Z 1 [g]']].to_numpy()\n",
        "  toracica_acc = d.loc[:,['Torácica: ACC.X 5 [g]', 'Torácica: ACC.Y 5 [g]',\n",
        "               'Torácica: ACC.Z 5 [g]']].to_numpy()\n",
        "  ombroe_acc = d.loc[:,['Ombro E: ACC.X 2 [g]', 'Ombro E: ACC.Y 2 [g]',\n",
        "       'Ombro E: ACC.Z 2 [g]']].to_numpy()\n",
        "  ombrod_acc = d.loc[:,['Ombro D: ACC.X 3 [g]', 'Ombro D: ACC.Y 3 [g]',\n",
        "                        'Ombro D: ACC.Z 3 [g]']].to_numpy()\n",
        "  coxae_acc = d.loc[:,['Coxa E: ACC.X 8 [g]', 'Coxa E: ACC.Y 8 [g]',\n",
        "                        'Coxa E: ACC.Z 8 [g]']].to_numpy()\n",
        "  coxad_acc = d.loc[:,['Coxa D: ACC.X 6 [g]', 'Coxa D: ACC.Y 6 [g]',\n",
        "                        'Coxa D: ACC.Z 6 [g]']].to_numpy()\n",
        "\n",
        "  avg_vec = (pelve_acc+toracica_acc+ombroe_acc+ombrod_acc)*0.25\n",
        "\n",
        "  return angle_times(avg_vec)\n"
      ],
      "metadata": {
        "id": "ZkkyUVHDcQMN"
      },
      "execution_count": null,
      "outputs": []
    },
    {
      "cell_type": "code",
      "source": [
        "def independent_angle(d):\n",
        "\n",
        "  pelve_acc = d.loc[:,['Pelve: ACC.X 1 [g]',\n",
        "               'Pelve: ACC.Y 1 [g]',\n",
        "               'Pelve: ACC.Z 1 [g]']].to_numpy()\n",
        "  toracica_acc = d.loc[:,['Torácica: ACC.X 5 [g]', 'Torácica: ACC.Y 5 [g]',\n",
        "               'Torácica: ACC.Z 5 [g]']].to_numpy()\n",
        "  ombroe_acc = d.loc[:,['Ombro E: ACC.X 2 [g]', 'Ombro E: ACC.Y 2 [g]',\n",
        "       'Ombro E: ACC.Z 2 [g]']].to_numpy()\n",
        "  ombrod_acc = d.loc[:,['Ombro D: ACC.X 3 [g]', 'Ombro D: ACC.Y 3 [g]',\n",
        "                        'Ombro D: ACC.Z 3 [g]']].to_numpy()\n",
        "  coxae_acc = d.loc[:,['Coxa E: ACC.X 8 [g]', 'Coxa E: ACC.Y 8 [g]',\n",
        "                        'Coxa E: ACC.Z 8 [g]']].to_numpy()\n",
        "  coxad_acc = d.loc[:,['Coxa D: ACC.X 6 [g]', 'Coxa D: ACC.Y 6 [g]',\n",
        "                        'Coxa D: ACC.Z 6 [g]']].to_numpy()\n",
        "\n",
        "  avg_vec = (toracica_acc-(coxae_acc+coxad_acc)*0.5)*0.5\n",
        "\n",
        "  return angle_times(avg_vec)\n"
      ],
      "metadata": {
        "id": "msOrfzSyeoON"
      },
      "execution_count": null,
      "outputs": []
    },
    {
      "cell_type": "code",
      "source": [
        "def average_trials(t,x,peaks):\n",
        "  res = 0\n",
        "  for pi, pf in zip(peaks[0::2],peaks[1::2]):\n",
        "    res += np.max(x[pi:pf])-np.min(x[pi:pf])\n",
        "\n",
        "  res /= 3\n",
        "  return res"
      ],
      "metadata": {
        "id": "WI6Zo-5af68l"
      },
      "execution_count": null,
      "outputs": []
    },
    {
      "cell_type": "code",
      "source": [
        "def split_trials(t,x,peaks):\n",
        "  tv = []\n",
        "  xv = []\n",
        "\n",
        "  for i in range(0,6,2):\n",
        "    tv.append(t[peaks[i]:peaks[i+1]])\n",
        "    xv.append(x[peaks[i]:peaks[i+1]])\n",
        "\n",
        "  return tv, xv\n"
      ],
      "metadata": {
        "id": "rfnnWSm5VuXL"
      },
      "execution_count": null,
      "outputs": []
    },
    {
      "cell_type": "code",
      "source": [
        "def find_passages(d):\n",
        "  t = d['X [s]'].to_numpy()\n",
        "  M = d.loc[:,['Evento: ACC.X 7 [g]',\n",
        "                   'Evento: ACC.Y 7 [g]',\n",
        "                   'Evento: ACC.Z 7 [g]',\n",
        "                   'Evento: GYRO.X 7 [°/s]',\n",
        "                   'Evento: GYRO.Y 7 [°/s]',\n",
        "                   'Evento: GYRO.Z 7 [°/s]']].to_numpy()\n",
        "  event = np.linalg.norm(M,axis=1)\n",
        "  peaks,_ = sg.find_peaks(event,distance=40,prominence=150,threshold=2,\n",
        "                          plateau_size = [1,20],width=[1,15])\n",
        "\n",
        "  fpeaks = []\n",
        "  for p in peaks:\n",
        "    if t[p]> 0.1*t[-1] and t[p] < 0.97*t[-1]:\n",
        "      fpeaks.append(p)\n",
        "\n",
        "  if len(fpeaks)>0:\n",
        "    ffpeaks = [fpeaks[0]]\n",
        "    for i in range(1,len(fpeaks)):\n",
        "      if fpeaks[i]-ffpeaks[-1]>190 and event[fpeaks[i]] > 0.27*np.max(event):\n",
        "        ffpeaks.append(fpeaks[i])\n",
        "\n",
        "    if len(ffpeaks) == 5:\n",
        "      ffpeaks.append(len(t)-10)\n",
        "\n",
        "    if len(ffpeaks)!= 6:\n",
        "      plt.plot(t,event,t[fpeaks],event[fpeaks],'r+')\n",
        "      plt.show()\n",
        "\n",
        "    return ffpeaks\n",
        "  else:\n",
        "    return []"
      ],
      "metadata": {
        "id": "klSMT7wzP8wU"
      },
      "execution_count": null,
      "outputs": []
    },
    {
      "cell_type": "code",
      "source": [
        "#errors\n",
        "errors = []\n",
        "\n",
        "# table to store results\n",
        "T = pd.DataFrame(columns = ['participant', 'condition',\n",
        "                            'time_pass_1',\n",
        "                            'time_pass_2',\n",
        "                            'time_pass_3',\n",
        "                            'independent_pass_1',\n",
        "                            'independent_pass_2',\n",
        "                            'independent_pass_3',\n",
        "                            'block_pass_1',\n",
        "                            'block_pass_2',\n",
        "                            'block_pass_3'])\n",
        "\n",
        "for c in conds:\n",
        "  folders = glob.glob(folder+c+'/*')\n",
        "  participants = [f.split('/')[-1] for f in folders]\n",
        "\n",
        "  for p in participants:\n",
        "    files = glob.glob(folder+c+'/'+p+'/T*.xlsx')\n",
        "    if len(files) != 4:\n",
        "      files = glob.glob(folder+c+'/'+p+'/rep*.xlsx')\n",
        "    if len(files) != 4:\n",
        "      files = glob.glob(folder+c+'/'+p+'/REP*.xlsx')\n",
        "    if len(files) != 4:\n",
        "      files = glob.glob(folder+c+'/'+p+'/R*.xlsx')\n",
        "\n",
        "    if len(files) != 4:\n",
        "      print('Erro! Número de tentativas errado: ',len(files),' - ',c,p)\n",
        "\n",
        "    times_passages = [0,0,0]\n",
        "    independent_angle_passages = [0,0,0]\n",
        "    block_angle_passages = [0,0,0]\n",
        "\n",
        "    ctrial = 0.0\n",
        "    for trial, fi in enumerate(files):\n",
        "      d = pd.read_excel(fi)\n",
        "\n",
        "      t = d['X [s]'].to_numpy()\n",
        "      ia = independent_angle(d)\n",
        "      ba = block_angle(d)\n",
        "      peaks = find_passages(d)\n",
        "\n",
        "      if len(peaks) == 6:\n",
        "        ctrial += 1.0\n",
        "        ts, bas = split_trials(t,ba,peaks)\n",
        "        _, ias = split_trials(t,ia,peaks)\n",
        "\n",
        "        for i in range(3):\n",
        "          times_passages[i] += (ts[i][-1]-ts[i][0])\n",
        "          independent_angle_passages[i] += (np.max(ias[i])-np.min(ias[i]))\n",
        "          block_angle_passages[i] += (np.max(bas[i])-np.min(bas[i]))\n",
        "\n",
        "      else:\n",
        "        print('Erro! Sem detecção de passagens.',c,p,trial)\n",
        "        errors.append(files)\n",
        "\n",
        "    if ctrial>0:\n",
        "      print('Tentativas:',ctrial)\n",
        "      for i in range(3):\n",
        "        times_passages[i] /=ctrial\n",
        "        independent_angle_passages[i] /= ctrial\n",
        "        block_angle_passages[i] /= ctrial\n",
        "\n",
        "      row = {'participant': [p], 'condition': [c],\n",
        "            'time_pass_1': times_passages[0],\n",
        "            'time_pass_2': times_passages[1],\n",
        "            'time_pass_3': times_passages[2],\n",
        "            'independent_pass_1': independent_angle_passages[0],\n",
        "            'independent_pass_2': independent_angle_passages[1],\n",
        "            'independent_pass_3': independent_angle_passages[2],\n",
        "            'block_pass_1': block_angle_passages[0],\n",
        "            'block_pass_2': block_angle_passages[1],\n",
        "            'block_pass_3': block_angle_passages[2]}\n",
        "      Ti = pd.DataFrame(data=row)\n",
        "      T = pd.concat((T,Ti),ignore_index=True)\n",
        "    else:\n",
        "      print('Erro! Nenhuma tentativa encontrada.')\n",
        "\n"
      ],
      "metadata": {
        "id": "5B1A93AWGbHC"
      },
      "execution_count": null,
      "outputs": []
    },
    {
      "cell_type": "code",
      "source": [
        "#errors\n",
        "errors = []\n",
        "\n",
        "# table to store results\n",
        "T = pd.DataFrame(columns = ['participant', 'condition',\n",
        "                            'time_pass_1',\n",
        "                            'time_pass_2',\n",
        "                            'time_pass_3',\n",
        "                            'independent_pass_1',\n",
        "                            'independent_pass_2',\n",
        "                            'independent_pass_3',\n",
        "                            'block_pass_1',\n",
        "                            'block_pass_2',\n",
        "                            'block_pass_3'])\n",
        "\n",
        "for c in conds:\n",
        "  folders = glob.glob(folder+c+'/*')\n",
        "  participants = [f.split('/')[-1] for f in folders]\n",
        "\n",
        "  for p in participants:\n",
        "    files = glob.glob(folder+c+'/'+p+'/T*.xlsx')\n",
        "    if len(files) != 4:\n",
        "      files = glob.glob(folder+c+'/'+p+'/rep*.xlsx')\n",
        "    if len(files) != 4:\n",
        "      files = glob.glob(folder+c+'/'+p+'/REP*.xlsx')\n",
        "    if len(files) != 4:\n",
        "      files = glob.glob(folder+c+'/'+p+'/R*.xlsx')\n",
        "\n",
        "    if len(files) != 4:\n",
        "      print('Erro! Número de tentativas errado: ',len(files),' - ',c,p)\n",
        "\n",
        "    times_passages = [0,0,0]\n",
        "    independent_angle_passages = [0,0,0]\n",
        "    block_angle_passages = [0,0,0]\n",
        "\n",
        "    ctrial = 0.0\n",
        "    for trial, fi in enumerate(files):\n",
        "      d = pd.read_excel(fi)\n",
        "\n",
        "      t = d['X [s]'].to_numpy()\n",
        "      ia = independent_angle(d)\n",
        "      ba = block_angle(d)\n",
        "\n",
        "      plt.figure()\n",
        "      plt.plot(t,ia)\n",
        "      plt.title('Independent angle')\n",
        "      plt.savefig(plots_folder+p+'_'+c+'_'+str(trial)+'_independent.png')\n",
        "      plt.clf()\n",
        "\n",
        "      plt.figure()\n",
        "      plt.plot(t,ia)\n",
        "      plt.title('Block angle')\n",
        "      plt.savefig(plots_folder+p+'_'+str(trial)+'_block.png')\n",
        "      plt.clf()"
      ],
      "metadata": {
        "id": "KW89G9_1ls-P"
      },
      "execution_count": null,
      "outputs": []
    },
    {
      "cell_type": "code",
      "source": [
        "T.shape"
      ],
      "metadata": {
        "colab": {
          "base_uri": "https://localhost:8080/"
        },
        "id": "hE22C5_T6tcH",
        "outputId": "92e5c2b7-f112-45dc-b906-9c103ecc8c50"
      },
      "execution_count": null,
      "outputs": [
        {
          "output_type": "execute_result",
          "data": {
            "text/plain": [
              "(54, 11)"
            ]
          },
          "metadata": {},
          "execution_count": 78
        }
      ]
    },
    {
      "cell_type": "code",
      "source": [
        "# table to store results\n",
        "T = pd.DataFrame(columns = ['participant', 'condition', 'trial','independent',\n",
        "                                  'block'])\n",
        "for c in conds:\n",
        "  folders = glob.glob(folder+c+'/*')\n",
        "  participants = [f.split('/')[-1] for f in folders]\n",
        "\n",
        "  for p in participants:\n",
        "    files = glob.glob(folder+c+'/'+p+'/T*.xlsx')\n",
        "    if len(files) == 0:\n",
        "      files = glob.glob(folder+c+'/'+p+'/rep*.xlsx')\n",
        "    if len(files) == 0:\n",
        "      files = glob.glob(folder+c+'/'+p+'/REP*.xlsx')\n",
        "    if len(files) == 0:\n",
        "      files = glob.glob(folder+c+'/'+p+'/R*.xlsx')\n",
        "\n",
        "    if len(files) != 4:\n",
        "      print('Erro! Número de tentativas errado: ',len(files),' - ',c,p)\n",
        "\n",
        "    times_passages = [0,0,0]\n",
        "    independent_angle_passages = [0,0,0]\n",
        "    block_angle_passages = [0,0,0]\n",
        "\n",
        "    ctrial = 0.0\n",
        "    for trial, fi in enumerate(files):\n",
        "      d = pd.read_excel(fi)\n",
        "\n",
        "      t = d['X [s]'].to_numpy()\n",
        "      ia = independent_angle(d)\n",
        "      ba = block_angle(d)\n",
        "      peaks = find_passages(d)\n",
        "\n",
        "      print(len(peaks))"
      ],
      "metadata": {
        "id": "bFfXYDFi14EN"
      },
      "execution_count": null,
      "outputs": []
    },
    {
      "cell_type": "code",
      "source": [
        "T.to_excel(folder+'passagem_angulos.xlsx',index=False)\n",
        "T.to_csv(folder+'passagem_angulos.csv',index=False)"
      ],
      "metadata": {
        "id": "ZA0OdMO7ilAR"
      },
      "execution_count": null,
      "outputs": []
    },
    {
      "cell_type": "code",
      "source": [
        "#errors\n",
        "errors = []\n",
        "\n",
        "# table to store results\n",
        "T = pd.DataFrame(columns = ['participant', 'condition',\n",
        "                            'time_pass_1',\n",
        "                            'time_pass_2',\n",
        "                            'time_pass_3',\n",
        "                            'independent_pass_1',\n",
        "                            'independent_pass_2',\n",
        "                            'independent_pass_3',\n",
        "                            'block_pass_1',\n",
        "                            'block_pass_2',\n",
        "                            'block_pass_3'])\n",
        "\n",
        "for c in conds[:1]:\n",
        "  folders = glob.glob(folder+c+'/*')\n",
        "  participants = [f.split('/')[-1] for f in folders]\n",
        "\n",
        "  for p in participants[:1]:\n",
        "    files = glob.glob(folder+c+'/'+p+'/T*.xlsx')\n",
        "    if len(files) != 4:\n",
        "      files = glob.glob(folder+c+'/'+p+'/rep*.xlsx')\n",
        "    if len(files) != 4:\n",
        "      files = glob.glob(folder+c+'/'+p+'/REP*.xlsx')\n",
        "    if len(files) != 4:\n",
        "      files = glob.glob(folder+c+'/'+p+'/R*.xlsx')\n",
        "\n",
        "    if len(files) != 4:\n",
        "      print('Erro! Número de tentativas errado: ',len(files),' - ',c,p)\n",
        "\n",
        "    times_passages = [0,0,0]\n",
        "    independent_angle_passages = [0,0,0]\n",
        "    block_angle_passages = [0,0,0]\n",
        "\n",
        "    ctrial = 0.0\n",
        "    for trial, fi in enumerate(files):\n",
        "      d = pd.read_excel(fi)\n",
        "\n",
        "      t = d['X [s]'].to_numpy()"
      ],
      "metadata": {
        "id": "4neXzN0qx2aW"
      },
      "execution_count": null,
      "outputs": []
    },
    {
      "cell_type": "code",
      "source": [
        "t"
      ],
      "metadata": {
        "colab": {
          "base_uri": "https://localhost:8080/"
        },
        "id": "e2QiO_t-GvIf",
        "outputId": "973c7af1-fbf7-4547-f08e-987ba33bd8ce"
      },
      "execution_count": null,
      "outputs": [
        {
          "output_type": "execute_result",
          "data": {
            "text/plain": [
              "array([0.0000e+00, 2.7000e-03, 5.4000e-03, ..., 9.9819e+00, 9.9846e+00,\n",
              "       9.9873e+00])"
            ]
          },
          "metadata": {},
          "execution_count": 19
        }
      ]
    },
    {
      "cell_type": "code",
      "source": [
        "d.columns"
      ],
      "metadata": {
        "colab": {
          "base_uri": "https://localhost:8080/"
        },
        "id": "DaEx3c82Gzmu",
        "outputId": "2cb5eeeb-034b-4d93-db74-0579e886de1c"
      },
      "execution_count": null,
      "outputs": [
        {
          "output_type": "execute_result",
          "data": {
            "text/plain": [
              "Index(['X [s]', 'Pelve: ACC.X 1 [g]', 'Pelve: ACC.Y 1 [g]',\n",
              "       'Pelve: ACC.Z 1 [g]', 'Pelve: GYRO.X 1 [°/s]', 'Pelve: GYRO.Y 1 [°/s]',\n",
              "       'Pelve: GYRO.Z 1 [°/s]', 'Ombro E: ACC.X 2 [g]', 'Ombro E: ACC.Y 2 [g]',\n",
              "       'Ombro E: ACC.Z 2 [g]', 'Ombro E: GYRO.X 2 [°/s]',\n",
              "       'Ombro E: GYRO.Y 2 [°/s]', 'Ombro E: GYRO.Z 2 [°/s]',\n",
              "       'Ombro D: ACC.X 3 [g]', 'Ombro D: ACC.Y 3 [g]', 'Ombro D: ACC.Z 3 [g]',\n",
              "       'Ombro D: GYRO.X 3 [°/s]', 'Ombro D: GYRO.Y 3 [°/s]',\n",
              "       'Ombro D: GYRO.Z 3 [°/s]', 'C7: ACC.X 4 [g]', 'C7: ACC.Y 4 [g]',\n",
              "       'C7: ACC.Z 4 [g]', 'C7: GYRO.X 4 [°/s]', 'C7: GYRO.Y 4 [°/s]',\n",
              "       'C7: GYRO.Z 4 [°/s]', 'Torácica: ACC.X 5 [g]', 'Torácica: ACC.Y 5 [g]',\n",
              "       'Torácica: ACC.Z 5 [g]', 'Torácica: GYRO.X 5 [°/s]',\n",
              "       'Torácica: GYRO.Y 5 [°/s]', 'Torácica: GYRO.Z 5 [°/s]',\n",
              "       'Coxa D: ACC.X 6 [g]', 'Coxa D: ACC.Y 6 [g]', 'Coxa D: ACC.Z 6 [g]',\n",
              "       'Coxa D: GYRO.X 6 [°/s]', 'Coxa D: GYRO.Y 6 [°/s]',\n",
              "       'Coxa D: GYRO.Z 6 [°/s]', 'Evento: ACC.X 7 [g]', 'Evento: ACC.Y 7 [g]',\n",
              "       'Evento: ACC.Z 7 [g]', 'Evento: GYRO.X 7 [°/s]',\n",
              "       'Evento: GYRO.Y 7 [°/s]', 'Evento: GYRO.Z 7 [°/s]',\n",
              "       'Coxa E: ACC.X 8 [g]', 'Coxa E: ACC.Y 8 [g]', 'Coxa E: ACC.Z 8 [g]',\n",
              "       'Coxa E: GYRO.X 8 [°/s]', 'Coxa E: GYRO.Y 8 [°/s]',\n",
              "       'Coxa E: GYRO.Z 8 [°/s]'],\n",
              "      dtype='object')"
            ]
          },
          "metadata": {},
          "execution_count": 20
        }
      ]
    },
    {
      "cell_type": "markdown",
      "source": [
        "# Pre-processing"
      ],
      "metadata": {
        "id": "9q_qHyttfaQK"
      }
    },
    {
      "cell_type": "code",
      "source": [
        "avg_pos[:,1]@np.ones((1,3))"
      ],
      "metadata": {
        "colab": {
          "base_uri": "https://localhost:8080/",
          "height": 159
        },
        "id": "V3jna2m4byRP",
        "outputId": "40420240-9cce-41af-aa07-705a7d34b71c"
      },
      "execution_count": null,
      "outputs": [
        {
          "output_type": "error",
          "ename": "ValueError",
          "evalue": "matmul: Input operand 1 has a mismatch in its core dimension 0, with gufunc signature (n?,k),(k,m?)->(n?,m?) (size 1 is different from 3614)",
          "traceback": [
            "\u001b[0;31m---------------------------------------------------------------------------\u001b[0m",
            "\u001b[0;31mValueError\u001b[0m                                Traceback (most recent call last)",
            "\u001b[0;32m<ipython-input-126-1f3098409d12>\u001b[0m in \u001b[0;36m<cell line: 1>\u001b[0;34m()\u001b[0m\n\u001b[0;32m----> 1\u001b[0;31m \u001b[0mavg_pos\u001b[0m\u001b[0;34m[\u001b[0m\u001b[0;34m:\u001b[0m\u001b[0;34m,\u001b[0m\u001b[0;36m1\u001b[0m\u001b[0;34m]\u001b[0m\u001b[0;34m@\u001b[0m\u001b[0mnp\u001b[0m\u001b[0;34m.\u001b[0m\u001b[0mones\u001b[0m\u001b[0;34m(\u001b[0m\u001b[0;34m(\u001b[0m\u001b[0;36m1\u001b[0m\u001b[0;34m,\u001b[0m\u001b[0;36m3\u001b[0m\u001b[0;34m)\u001b[0m\u001b[0;34m)\u001b[0m\u001b[0;34m\u001b[0m\u001b[0;34m\u001b[0m\u001b[0m\n\u001b[0m",
            "\u001b[0;31mValueError\u001b[0m: matmul: Input operand 1 has a mismatch in its core dimension 0, with gufunc signature (n?,k),(k,m?)->(n?,m?) (size 1 is different from 3614)"
          ]
        }
      ]
    },
    {
      "cell_type": "code",
      "source": [
        "avg_pos[:,1].reshape((-1,1))@np.ones((1,3))"
      ],
      "metadata": {
        "colab": {
          "base_uri": "https://localhost:8080/"
        },
        "id": "DMSIOktRhLLg",
        "outputId": "62a13689-5145-4d8f-ac55-8002f5ae9b7b"
      },
      "execution_count": null,
      "outputs": [
        {
          "output_type": "execute_result",
          "data": {
            "text/plain": [
              "array([[ 0.00000000e+00,  0.00000000e+00,  0.00000000e+00],\n",
              "       [-4.15283203e-09, -4.15283203e-09, -4.15283203e-09],\n",
              "       [-1.91538783e-08, -1.91538783e-08, -1.91538783e-08],\n",
              "       ...,\n",
              "       [ 4.13130802e-01,  4.13130802e-01,  4.13130802e-01],\n",
              "       [ 4.13360531e-01,  4.13360531e-01,  4.13360531e-01],\n",
              "       [ 4.13591065e-01,  4.13591065e-01,  4.13591065e-01]])"
            ]
          },
          "metadata": {},
          "execution_count": 129
        }
      ]
    },
    {
      "cell_type": "code",
      "source": [],
      "metadata": {
        "id": "DjGooQrlhdyn"
      },
      "execution_count": null,
      "outputs": []
    }
  ]
}